{
 "cells": [
  {
   "cell_type": "code",
   "execution_count": null,
   "metadata": {
    "colab": {},
    "colab_type": "code",
    "id": "HG-K4vgGhwnH"
   },
   "outputs": [],
   "source": []
  },
  {
   "cell_type": "code",
   "execution_count": null,
   "metadata": {
    "colab": {
     "base_uri": "https://localhost:8080/",
     "height": 54
    },
    "colab_type": "code",
    "id": "IX7-tThUh1XS",
    "outputId": "8cef2b0a-1a2a-4137-aa0d-d6524e3f3153"
   },
   "outputs": [],
   "source": []
  },
  {
   "cell_type": "code",
   "execution_count": null,
   "metadata": {
    "colab": {
     "base_uri": "https://localhost:8080/",
     "height": 2168
    },
    "colab_type": "code",
    "id": "jPXLy1driMOM",
    "outputId": "d8614937-9c21-4cef-ea97-7d260e5cea27"
   },
   "outputs": [],
   "source": [
    "from google.colab import drive\n",
    "import numpy as np\n",
    "import pandas as pd\n",
    "\n",
    "drive.mount('/content/drive')\n",
    "\n",
    "DIR_PATH1 = '/content/drive/My Drive/WebValley2019-Students/plic_clinical_data/PLIC-Chiesa/'\n",
    "\n",
    "df = pd.read_excel(DIR_PATH1 + \"DB PLIC Chiesa_add_on_20_02_19.xls\")\n",
    "\n",
    "#drop empty columns\n",
    "#del df[b] for b in df.columns if str(\"unnamed\") in str(b).lower()\n",
    "\n",
    "#df.drop(cols,axis=0)\n",
    "#df = df[cols]\n",
    "\n",
    "for f in df.columns:\n",
    "  if \"unnamed\" in str(f).lower():\n",
    "    del df[f]\n",
    "    \n",
    "#drop rows whose cod_pz is Nan\n",
    "df = df[np.isfinite(df['cod_pz'])]\n",
    "#replace Nan in various columns\n",
    "df = df.fillna(int(-1))\n",
    "df.cod_pz = df.cod_pz.astype('int')\n",
    "\n",
    "df\n",
    "\n",
    "\n",
    "\n",
    "\n",
    "\n",
    "    \n",
    "\n",
    "\n",
    "  \n",
    "\n",
    "  \n",
    "\n"
   ]
  }
 ],
 "metadata": {
  "colab": {
   "collapsed_sections": [],
   "name": "data_processing.ipynb",
   "provenance": [],
   "version": "0.3.2"
  },
  "kernelspec": {
   "display_name": "Python 3",
   "name": "python3"
  }
 },
 "nbformat": 4,
 "nbformat_minor": 0
}
